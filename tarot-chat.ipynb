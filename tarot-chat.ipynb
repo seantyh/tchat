{
 "cells": [
  {
   "cell_type": "code",
   "execution_count": 11,
   "id": "b02ec2d0-08ff-4dc8-83bd-d9faabd859e2",
   "metadata": {},
   "outputs": [],
   "source": [
    "import os\n",
    "import json\n",
    "from pathlib import Path\n",
    "import openai\n",
    "import random\n",
    "\n",
    "tarotdeck = json.loads(Path(\"tarot.json\").read_text())\n",
    "rng = random.Random()\n",
    "\n",
    "system_prompt = \"\"\"\n",
    "你是一個陪伴使用者並提供支持的聊天機器人。為了讓你的聊天內容有足夠的多樣性，每當使用者回答一個問題後，\n",
    "你都會隨機從78張塔羅牌中隨機抽取一些牌。你會按照牌面的意義和使用者提供的訊息，提供適當的支持性回應。\n",
    "如果塔羅的內容是正面的，你就會用正面的方式回答；如果塔羅的意涵是負面的，你會誠實但溫和的提醒使用者。\n",
    "\n",
    "你僅需專心和使用者對話，塔羅牌的結果只是你的靈感，也就是，你不需要提到你抽到的牌是什麼。\n",
    "\n",
    "使用者不想知道你抽到什麼牌。\n",
    "\n",
    "使用者知道你是用塔羅牌來提供回應，他理解塔羅是主觀且有各種詮釋可能，\n",
    "你僅需提供你的詮釋即可，不需要提醒使用者塔羅是主觀的以及有各種詮釋的。\n",
    "使用者完全理解你只是一個聊天機器人，你的詮釋只供參考。\n",
    "使用者的目的是從你的詮釋中獲得靈感，他不會因為單純因為你的詮釋做任何決定。\n",
    "\"\"\"\n",
    "\n",
    "class TarotChat:\n",
    "    def __init__(self):\n",
    "        self.history = [\n",
    "            {\"role\": \"system\", \n",
    "             \"content\": system_prompt},\n",
    "        ]\n",
    "\n",
    "    def user_input(self, x):\n",
    "        user_message = {\"role\": \"user\", \"content\": x}\n",
    "        self.history.append(user_message)\n",
    "        \n",
    "    def predict(self):\n",
    "        resp = openai.ChatCompletion.create(\n",
    "          # model=\"gpt-3.5-turbo\",\n",
    "          model=\"gpt-4\",\n",
    "          messages=[\n",
    "            *self.history,\n",
    "          ], \n",
    "          stream=True\n",
    "        )\n",
    "        \n",
    "        content = []\n",
    "        print(\"Streaming: \", end='')\n",
    "        for chunk in resp:\n",
    "            delta = chunk.choices[0].delta.get(\"content\", \"\")\n",
    "            print(delta, end='')\n",
    "            content.append(delta)\n",
    "        print(\"\")\n",
    "        \n",
    "        reply_message = {\n",
    "            \"role\": \"assistant\",\n",
    "            \"content\": \"\".join(content)\n",
    "        }\n",
    "        \n",
    "        self.history.append(reply_message)\n",
    "\n",
    "        return reply_message\n",
    "\n",
    "    def __call__(self, x):\n",
    "        self.user_input(x)\n",
    "        self.draw_tarot()\n",
    "        self.add_interpret_tarot()\n",
    "        self.predict()\n",
    "        self.add_response_prompt()\n",
    "        model_reply = self.predict()\n",
    "        \n",
    "        return model_reply[\"content\"]\n",
    "\n",
    "    def add_response_prompt(self):\n",
    "        message = {\n",
    "            \"role\": \"assistant\",\n",
    "            \"content\": \"我完成對牌面的解釋了。根據牌面，目前的對話內容，這是我對使用者的回覆。\"\n",
    "        }\n",
    "        self.history.append(message)\n",
    "        \n",
    "    def add_interpret_tarot(self):\n",
    "        message = {\n",
    "            \"role\": \"assistant\",\n",
    "            \"content\": (\"我先一步步思考。首先，我將列出這些牌在塔羅中的表層意義，\" +\n",
    "                        \"我僅需專注牌面，不要和目前對話的內容做連結。\"\n",
    "                        \"使用者不會看到這則訊息的回覆。\")\n",
    "        }\n",
    "        \n",
    "        self.history.append(message)\n",
    "            \n",
    "    def draw_tarot(self, n=1):\n",
    "        deck = tarotdeck[::1]\n",
    "        rng.shuffle(deck)\n",
    "        spread = deck[:n]\n",
    "        print(\"DEBUG: \", spread)\n",
    "        self.history.append({\n",
    "            \"role\": \"assistant\",\n",
    "            \"content\": \"我抽到的牌是：\" +\n",
    "                       \",\".join(spread)\n",
    "        })\n",
    "        return spread\n",
    "\n",
    "    def suggest_title(self):\n",
    "        self.history.append(\n",
    "            {\"role\": \"assistant\",\n",
    "             \"content\": \"Please generate three words that could summarize the current dialog. \"+\n",
    "                        \"Ignore the tarot part, and focus on the content of user interaction.\" +\n",
    "                        \"Your response should only contains the words joining with underscore, nothing else.\"\n",
    "            }\n",
    "        )\n",
    "        return self.predict()[\"content\"]\n",
    "        \n",
    "    def save(self, prefix=\"\"):\n",
    "        title = self.suggest_title()\n",
    "        fname = prefix+title+\".json\"\n",
    "        Path(fname).write_text(json.dumps(self.history, ensure_ascii=False))"
   ]
  },
  {
   "cell_type": "code",
   "execution_count": 12,
   "id": "fc010d1a-92d1-449a-b1e8-d181bae423a1",
   "metadata": {},
   "outputs": [],
   "source": [
    "chat = TarotChat()"
   ]
  },
  {
   "cell_type": "code",
   "execution_count": 13,
   "id": "7fe75e65-f5e4-4b92-bc1c-37e99f68dc28",
   "metadata": {},
   "outputs": [
    {
     "name": "stdout",
     "output_type": "stream",
     "text": [
      "DEBUG:  ['Page of Pentacles']\n",
      "Streaming: Page of Pentacles意味著學習、探索、致力於一個新的熱情或計劃。也可能意味著一種有趣、新奇的探索，或者一種質樸、謹慎的前進方式。\n",
      "Streaming: 當你在德國旅行時，建議你以新奇探索的心態去面對每一天，保持對新知識和經驗的熱情。在眾多的博物館和歷史建築中學習德國的歷史和文化，是一個很好的開始。然而，多留意並嘗試理解他們的習慣和社會規範也很重要。像是他們尊重守時，比較喜歡講述事實而較少用讚美的話語等。在德國旅行時儘量維持謹慎且保守的消費習慣可能對你有所幫助。最後，記得要享受並珍惜這次的旅程喔。\n"
     ]
    },
    {
     "data": {
      "text/plain": [
       "'當你在德國旅行時，建議你以新奇探索的心態去面對每一天，保持對新知識和經驗的熱情。在眾多的博物館和歷史建築中學習德國的歷史和文化，是一個很好的開始。然而，多留意並嘗試理解他們的習慣和社會規範也很重要。像是他們尊重守時，比較喜歡講述事實而較少用讚美的話語等。在德國旅行時儘量維持謹慎且保守的消費習慣可能對你有所幫助。最後，記得要享受並珍惜這次的旅程喔。'"
      ]
     },
     "execution_count": 13,
     "metadata": {},
     "output_type": "execute_result"
    }
   ],
   "source": [
    "chat(\"我在台灣，接下來計畫要去德國旅遊，有什麼要注意的嗎？\")"
   ]
  },
  {
   "cell_type": "code",
   "execution_count": 14,
   "id": "8033ae97-75d4-46ea-b064-df9d1cb2537d",
   "metadata": {},
   "outputs": [
    {
     "name": "stdout",
     "output_type": "stream",
     "text": [
      "DEBUG:  ['The World']\n",
      "Streaming: The World意味著一個階段的完成，全新的開始，或是生活中的一個重要階段。這張牌代表著充分地投入和享受當下的時刻。同時也提醒我們要去欣賞和享受我們在旅途中的成就。\n",
      "Streaming: 在維也納，你可以充分地投入並享受這個城市的藝術與音樂世界。這個城市是著名作曲家如莫札特和貝多芬的家，所以一定要去音樂廳欣賞一場古典音樂會。另外，別忘了讓自己在美麗的風景中迷失，例如美泉宮或者維也納森林。你在維也納能享受的不只是視覺與聽覺的美感，還有味覺的享受，像是維也納咖啡和各式各樣的美食。在這裡，你的每一天都可以是一次全新的探險。這座城市有很多的風情和故事等待你去發掘，我希望你不只是過客，而是在這個旅程中找到屬於自己的篇章。最後，記得要讓自己充分地享受在維也納的每一刻，因為這座城市有著讓人醉心的魅力。\n"
     ]
    },
    {
     "data": {
      "text/plain": [
       "'在維也納，你可以充分地投入並享受這個城市的藝術與音樂世界。這個城市是著名作曲家如莫札特和貝多芬的家，所以一定要去音樂廳欣賞一場古典音樂會。另外，別忘了讓自己在美麗的風景中迷失，例如美泉宮或者維也納森林。你在維也納能享受的不只是視覺與聽覺的美感，還有味覺的享受，像是維也納咖啡和各式各樣的美食。在這裡，你的每一天都可以是一次全新的探險。這座城市有很多的風情和故事等待你去發掘，我希望你不只是過客，而是在這個旅程中找到屬於自己的篇章。最後，記得要讓自己充分地享受在維也納的每一刻，因為這座城市有著讓人醉心的魅力。'"
      ]
     },
     "execution_count": 14,
     "metadata": {},
     "output_type": "execute_result"
    }
   ],
   "source": [
    "chat(\"我還要去維也納耶，在維也納要幹嘛？\")"
   ]
  },
  {
   "cell_type": "code",
   "execution_count": 15,
   "id": "9ef8cb60-170d-43cd-8d34-9b08838e44ad",
   "metadata": {},
   "outputs": [
    {
     "name": "stdout",
     "output_type": "stream",
     "text": [
      "Streaming: 旅遊_德國_維也納\n"
     ]
    },
    {
     "data": {
      "text/plain": [
       "'旅遊_德國_維也納'"
      ]
     },
     "execution_count": 15,
     "metadata": {},
     "output_type": "execute_result"
    }
   ],
   "source": [
    "chat.suggest_title()"
   ]
  }
 ],
 "metadata": {
  "kernelspec": {
   "display_name": "Python 3 (ipykernel)",
   "language": "python",
   "name": "python3"
  },
  "language_info": {
   "codemirror_mode": {
    "name": "ipython",
    "version": 3
   },
   "file_extension": ".py",
   "mimetype": "text/x-python",
   "name": "python",
   "nbconvert_exporter": "python",
   "pygments_lexer": "ipython3",
   "version": "3.10.10"
  }
 },
 "nbformat": 4,
 "nbformat_minor": 5
}
